{
 "cells": [
  {
   "cell_type": "markdown",
   "id": "7e917ae6-10f7-4004-9b9d-5b915a1afbbf",
   "metadata": {},
   "source": [
    "## Assigning Seasonality score from 1 to 5 "
   ]
  },
  {
   "cell_type": "code",
   "execution_count": 2,
   "id": "5ab700e0-e980-4b7e-b6e2-68a4498c87a7",
   "metadata": {},
   "outputs": [
    {
     "name": "stdout",
     "output_type": "stream",
     "text": [
      "Seasonality scores saved to 'Seasonality_Scores.xlsx'\n"
     ]
    }
   ],
   "source": [
    "import pandas as pd\n",
    "import numpy as np\n",
    "\n",
    "\n",
    "df = pd.read_excel('Cleaned_Seasonality_Data.xlsx')\n",
    "\n",
    "\n",
    "df['Month-Year'] = df['Transaction Date'].dt.to_period('M')\n",
    "\n",
    "\n",
    "monthly_revenue = df.groupby(['Restaurant Name', 'Month-Year'])['Revenue'].sum().reset_index()\n",
    "\n",
    "\n",
    "stats = monthly_revenue.groupby('Restaurant Name')['Revenue'].agg(['mean', 'std']).reset_index()\n",
    "stats['CV'] = stats['std'] / stats['mean']\n",
    "\n",
    "\n",
    "# Assigning scores from 1 (low variability) to 5 (high variability)\n",
    "stats['Seasonality Score'] = pd.qcut(stats['CV'], q=5, labels=[1, 2, 3, 4, 5])\n",
    "\n",
    "\n",
    "score_df = stats[['Restaurant Name', 'Seasonality Score']]\n",
    "score_df.to_excel('Seasonality_Scores.xlsx', index=False)\n",
    "\n",
    "print(\"Seasonality scores saved to 'Seasonality_Scores.xlsx'\")\n"
   ]
  }
 ],
 "metadata": {
  "kernelspec": {
   "display_name": "Python [conda env:base] *",
   "language": "python",
   "name": "conda-base-py"
  },
  "language_info": {
   "codemirror_mode": {
    "name": "ipython",
    "version": 3
   },
   "file_extension": ".py",
   "mimetype": "text/x-python",
   "name": "python",
   "nbconvert_exporter": "python",
   "pygments_lexer": "ipython3",
   "version": "3.13.2"
  }
 },
 "nbformat": 4,
 "nbformat_minor": 5
}
