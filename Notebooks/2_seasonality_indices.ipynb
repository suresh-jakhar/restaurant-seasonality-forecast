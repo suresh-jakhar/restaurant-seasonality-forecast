{
 "cells": [
  {
   "cell_type": "markdown",
   "id": "13764bc8-a836-41c1-9681-5b3409e54125",
   "metadata": {},
   "source": [
    "## Calculate Seasonality Indices"
   ]
  },
  {
   "cell_type": "code",
   "execution_count": 1,
   "id": "0499ccf8-9f46-4fc3-bd7d-e7d84d0e3b08",
   "metadata": {},
   "outputs": [
    {
     "name": "stdout",
     "output_type": "stream",
     "text": [
      "Monthly seasonality indices saved to 'Monthly_Seasonality_Indices.xlsx'\n"
     ]
    }
   ],
   "source": [
    "import pandas as pd\n",
    "\n",
    "\n",
    "df = pd.read_excel('Cleaned_Seasonality_Data.xlsx')\n",
    "\n",
    "\n",
    "df['Month'] = df['Transaction Date'].dt.month\n",
    "df['Year'] = df['Transaction Date'].dt.year\n",
    "df['Month-Year'] = df['Transaction Date'].dt.to_period('M')\n",
    "\n",
    "\n",
    "monthly_revenue = df.groupby(['Restaurant Name', 'Month'])['Revenue'].mean().reset_index()\n",
    "monthly_revenue.rename(columns={'Revenue': 'Avg Monthly Revenue'}, inplace=True)\n",
    "\n",
    "\n",
    "overall_avg = df.groupby('Restaurant Name')['Revenue'].mean().reset_index()\n",
    "overall_avg.rename(columns={'Revenue': 'Overall Avg Revenue'}, inplace=True)\n",
    "\n",
    "\n",
    "seasonality_df = pd.merge(monthly_revenue, overall_avg, on='Restaurant Name')\n",
    "seasonality_df['Seasonality Index'] = seasonality_df['Avg Monthly Revenue'] / seasonality_df['Overall Avg Revenue']\n",
    "\n",
    "\n",
    "seasonality_df = seasonality_df[['Restaurant Name', 'Month', 'Avg Monthly Revenue', 'Seasonality Index']]\n",
    "seasonality_df = seasonality_df.sort_values(['Restaurant Name', 'Month'])\n",
    "seasonality_df['Avg Monthly Revenue'] = seasonality_df['Avg Monthly Revenue'].round(2)\n",
    "seasonality_df['Seasonality Index'] = seasonality_df['Seasonality Index'].round(3)\n",
    "\n",
    "\n",
    "seasonality_df.to_excel('Monthly_Seasonality_Indices.xlsx', index=False)\n",
    "\n",
    "print(\"Monthly seasonality indices saved to 'Monthly_Seasonality_Indices.xlsx'\")"
   ]
  }
 ],
 "metadata": {
  "kernelspec": {
   "display_name": "Python [conda env:base] *",
   "language": "python",
   "name": "conda-base-py"
  },
  "language_info": {
   "codemirror_mode": {
    "name": "ipython",
    "version": 3
   },
   "file_extension": ".py",
   "mimetype": "text/x-python",
   "name": "python",
   "nbconvert_exporter": "python",
   "pygments_lexer": "ipython3",
   "version": "3.13.2"
  }
 },
 "nbformat": 4,
 "nbformat_minor": 5
}
