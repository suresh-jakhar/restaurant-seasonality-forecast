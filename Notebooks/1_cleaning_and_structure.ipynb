{
 "cells": [
  {
   "cell_type": "markdown",
   "id": "ad92e412",
   "metadata": {},
   "source": [
    "## Cleaning and Structuring\n"
   ]
  },
  {
   "cell_type": "code",
   "execution_count": 2,
   "id": "e126bef1",
   "metadata": {},
   "outputs": [
    {
     "name": "stdout",
     "output_type": "stream",
     "text": [
      "Cleaned dataset saved to 'Cleaned_Seasonality_Data.xlsx'\n"
     ]
    }
   ],
   "source": [
    "import pandas as pd\n",
    "\n",
    "\n",
    "df_raw = pd.read_excel('Seasonality_Model.xlsx')\n",
    "\n",
    "\n",
    "df_raw.columns = ['Restaurant Name', 'Go Live Date', 'Transaction Date', 'GMV', 'Revenue']\n",
    "\n",
    "\n",
    "df_raw['Go Live Date'] = pd.to_datetime(df_raw['Go Live Date'], errors='coerce')\n",
    "df_raw['Transaction Date'] = pd.to_datetime(df_raw['Transaction Date'], errors='coerce')\n",
    "\n",
    "\n",
    "df_raw['GMV'] = df_raw['GMV'].replace(',', '', regex=True).astype(float)\n",
    "df_raw['Revenue'] = df_raw['Revenue'].replace(',', '', regex=True).astype(float)\n",
    "\n",
    "\n",
    "df_cleaned = df_raw.dropna(subset=['GMV', 'Revenue']).reset_index(drop=True)\n",
    "\n",
    "\n",
    "df_cleaned.to_excel('Cleaned_Seasonality_Data.xlsx', index=False)\n",
    "\n",
    "print(\"Cleaned dataset saved to 'Cleaned_Seasonality_Data.xlsx'\")\n",
    "\n",
    "\n"
   ]
  }
 ],
 "metadata": {
  "kernelspec": {
   "display_name": "Python 3",
   "language": "python",
   "name": "python3"
  },
  "language_info": {
   "codemirror_mode": {
    "name": "ipython",
    "version": 3
   },
   "file_extension": ".py",
   "mimetype": "text/x-python",
   "name": "python",
   "nbconvert_exporter": "python",
   "pygments_lexer": "ipython3",
   "version": "3.13.2"
  }
 },
 "nbformat": 4,
 "nbformat_minor": 5
}
