{
 "cells": [
  {
   "cell_type": "markdown",
   "id": "bca5fa2c-d5cd-4985-8eb0-e15aa0c1daa1",
   "metadata": {},
   "source": [
    "## Forecast next 6 months of revenue for a selected restaurant"
   ]
  },
  {
   "cell_type": "code",
   "execution_count": 8,
   "id": "9710c785-b330-4b4f-8af3-ccb8cade2038",
   "metadata": {},
   "outputs": [
    {
     "name": "stdout",
     "output_type": "stream",
     "text": [
      "Forecast saved to '6_Month_Revenue_Forecast.xlsx'\n"
     ]
    }
   ],
   "source": [
    "import pandas as pd\n",
    "from statsmodels.tsa.holtwinters import ExponentialSmoothing\n",
    "\n",
    "\n",
    "df = pd.read_excel('Cleaned_Seasonality_Data.xlsx')\n",
    "\n",
    "\n",
    "df['Month-Year'] = df['Transaction Date'].dt.to_period('M').dt.to_timestamp()\n",
    "\n",
    "\n",
    "restaurants = df['Restaurant Name'].unique()\n",
    "\n",
    "\n",
    "forecast_records = []\n",
    "\n",
    "\n",
    "for restaurant in restaurants:\n",
    "    venue_df = df[df['Restaurant Name'] == restaurant]\n",
    "\n",
    "    \n",
    "    monthly = venue_df.groupby('Month-Year')['Revenue'].sum().sort_index()\n",
    "\n",
    "   \n",
    "    if len(monthly) < 3:\n",
    "        continue\n",
    "\n",
    "    \n",
    "    if len(monthly) >= 24:\n",
    "        seasonal_periods = 12\n",
    "    elif len(monthly) >= 12:\n",
    "        seasonal_periods = 6\n",
    "    else:\n",
    "        seasonal_periods = None\n",
    "\n",
    "    try:\n",
    "       \n",
    "        if seasonal_periods:\n",
    "            model = ExponentialSmoothing(\n",
    "                monthly,\n",
    "                trend='add',\n",
    "                seasonal='add',\n",
    "                seasonal_periods=seasonal_periods\n",
    "            ).fit()\n",
    "        else:\n",
    "            model = ExponentialSmoothing(\n",
    "                monthly,\n",
    "                trend='add',\n",
    "                seasonal=None\n",
    "            ).fit()\n",
    "\n",
    "     \n",
    "        forecast = model.forecast(6)\n",
    "\n",
    "        \n",
    "        for date, value in forecast.items():\n",
    "            forecast_records.append({\n",
    "                'Restaurant Name': restaurant,\n",
    "                'Forecast Month': date.strftime('%Y-%m'),\n",
    "                'Forecasted Revenue': round(max(value, 0), 2)\n",
    "            })\n",
    "\n",
    "    except Exception as e:\n",
    "       \n",
    "        continue \n",
    "\n",
    "\n",
    "forecast_df = pd.DataFrame(forecast_records)\n",
    "forecast_df.to_excel('6_Month_Revenue_Forecast.xlsx', index=False)\n",
    "\n",
    "print(\"Forecast saved to '6_Month_Revenue_Forecast.xlsx'\")\n"
   ]
  },
  {
   "cell_type": "code",
   "execution_count": null,
   "id": "8dc30617-fe49-4236-931e-4bca5f2d151b",
   "metadata": {},
   "outputs": [],
   "source": []
  }
 ],
 "metadata": {
  "kernelspec": {
   "display_name": "Python [conda env:base] *",
   "language": "python",
   "name": "conda-base-py"
  },
  "language_info": {
   "codemirror_mode": {
    "name": "ipython",
    "version": 3
   },
   "file_extension": ".py",
   "mimetype": "text/x-python",
   "name": "python",
   "nbconvert_exporter": "python",
   "pygments_lexer": "ipython3",
   "version": "3.13.2"
  }
 },
 "nbformat": 4,
 "nbformat_minor": 5
}
